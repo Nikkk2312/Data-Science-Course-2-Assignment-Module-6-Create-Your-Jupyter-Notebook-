{
 "cells": [
  {
   "cell_type": "markdown",
   "id": "e4a6ab06-c08e-4483-a34d-f3970c328892",
   "metadata": {},
   "source": [
    "# Data Science Tools and Ecosystem"
   ]
  },
  {
   "cell_type": "markdown",
   "id": "253bf403-2e3d-4def-9ce2-2fe4a4866c60",
   "metadata": {},
   "source": [
    "In this notebook, Data Science Tools and Ecosystem are summarized."
   ]
  },
  {
   "cell_type": "markdown",
   "id": "2343e9c5-9c95-4178-a001-1042d4255825",
   "metadata": {},
   "source": [
    "**Objectives:**\n",
    "- Poular databases in data science\n",
    "- Popular libraries used in data science\n",
    "- Popular langauges used in data science"
   ]
  },
  {
   "cell_type": "markdown",
   "id": "2be4267c-9c60-45b6-b5e2-bfaaf64b4e2b",
   "metadata": {},
   "source": [
    "## Author\n",
    "Niket Jain"
   ]
  },
  {
   "cell_type": "markdown",
   "id": "63f582f2-80a8-4922-91f2-702915bdac3f",
   "metadata": {},
   "source": [
    "Some of the popular languages that Data Scientists use are:\n",
    "\n",
    "1. Python\n",
    "2. R\n",
    "3. SQL"
   ]
  },
  {
   "cell_type": "markdown",
   "id": "f62c0e14-8be9-47c8-aaee-8ffcda641f18",
   "metadata": {},
   "source": [
    "Some of the commonly used libraries used by Data Scientists include:\n",
    "\n",
    "1. TensorFlow\n",
    "2. Matplotlib\n",
    "3. Numpy\n",
    "\n",
    "\n"
   ]
  },
  {
   "cell_type": "markdown",
   "id": "818c28a2-f87f-49c3-b1d0-2d0abf8d464f",
   "metadata": {
    "tags": []
   },
   "source": [
    "|Data Science Tools|\n",
    "|------------------|\n",
    "|Tableau|\n",
    "|Apache Hadoop|\n",
    "|Matlab|"
   ]
  },
  {
   "cell_type": "markdown",
   "id": "7b7d0695-3593-48f5-b304-fd661bf3ccc8",
   "metadata": {},
   "source": [
    "Below are a few examples of evaluating arithmetic expressions in Python\n",
    "\n",
    "2 + 3 = 5\n",
    "\n",
    "2 - 3 = -1\n",
    "\n",
    "2 * 3 = 6\n",
    "\n",
    "2 / 3 = 0.66\n",
    "\n"
   ]
  },
  {
   "cell_type": "code",
   "execution_count": 2,
   "id": "37e6d0c4-a78f-41a6-bca1-71e74dcd5b82",
   "metadata": {
    "tags": []
   },
   "outputs": [
    {
     "name": "stdout",
     "output_type": "stream",
     "text": [
      "17\n"
     ]
    }
   ],
   "source": [
    "# This a simple arithmetic expression to mutiply then add integers\n",
    "x=(3*4)+5\n",
    "print(x)"
   ]
  },
  {
   "cell_type": "code",
   "execution_count": 13,
   "id": "4f406313-95fe-4eec-9ec4-307c24a553f1",
   "metadata": {
    "tags": []
   },
   "outputs": [
    {
     "name": "stdout",
     "output_type": "stream",
     "text": [
      "3.3333333333333335 hours\n"
     ]
    }
   ],
   "source": [
    "#This will convert 200 minutes to hours by diving by 60\n",
    "y=200/60\n",
    "print(f\"{y} hours\")"
   ]
  },
  {
   "cell_type": "code",
   "execution_count": null,
   "id": "8ab3c5ff-bf06-441c-83a8-9bf5a8fc3e7e",
   "metadata": {},
   "outputs": [],
   "source": []
  }
 ],
 "metadata": {
  "kernelspec": {
   "display_name": "Python",
   "language": "python",
   "name": "conda-env-python-py"
  },
  "language_info": {
   "codemirror_mode": {
    "name": "ipython",
    "version": 3
   },
   "file_extension": ".py",
   "mimetype": "text/x-python",
   "name": "python",
   "nbconvert_exporter": "python",
   "pygments_lexer": "ipython3",
   "version": "3.7.12"
  }
 },
 "nbformat": 4,
 "nbformat_minor": 5
}
